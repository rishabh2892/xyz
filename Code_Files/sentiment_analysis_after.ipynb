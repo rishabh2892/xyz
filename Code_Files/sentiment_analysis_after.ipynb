{
 "cells": [
  {
   "cell_type": "code",
   "execution_count": 31,
   "metadata": {
    "collapsed": true
   },
   "outputs": [],
   "source": [
    "from __future__ import division\n",
    "import re\n",
    "import pandas as pd\n",
    "from textblob import TextBlob\n",
    "import matplotlib.pyplot as plt\n",
    "%matplotlib inline"
   ]
  },
  {
   "cell_type": "code",
   "execution_count": 21,
   "metadata": {
    "collapsed": false
   },
   "outputs": [],
   "source": [
    "#Reading saved tweets\n",
    "df_aft=pd.read_csv('output_aft.txt')"
   ]
  },
  {
   "cell_type": "code",
   "execution_count": 22,
   "metadata": {
    "collapsed": false
   },
   "outputs": [
    {
     "data": {
      "text/html": [
       "<div>\n",
       "<table border=\"1\" class=\"dataframe\">\n",
       "  <thead>\n",
       "    <tr style=\"text-align: right;\">\n",
       "      <th></th>\n",
       "      <th>username</th>\n",
       "      <th>date</th>\n",
       "      <th>retweets</th>\n",
       "      <th>favorites</th>\n",
       "      <th>text</th>\n",
       "      <th>geo</th>\n",
       "      <th>mentions</th>\n",
       "      <th>hashtags</th>\n",
       "      <th>id</th>\n",
       "      <th>permalink</th>\n",
       "      <th>Unnamed: 10</th>\n",
       "    </tr>\n",
       "  </thead>\n",
       "  <tbody>\n",
       "    <tr>\n",
       "      <th>0</th>\n",
       "      <td>LanaResistance</td>\n",
       "      <td>2017-02-17 00:28</td>\n",
       "      <td>0</td>\n",
       "      <td>0</td>\n",
       "      <td>Trump: Does anyone think Clinton would be toug...</td>\n",
       "      <td>NaN</td>\n",
       "      <td>NaN</td>\n",
       "      <td>NaN</td>\n",
       "      <td>8.32303119161627E+017</td>\n",
       "      <td>https://twitter.com/LanaResistance/status/8323...</td>\n",
       "      <td>NaN</td>\n",
       "    </tr>\n",
       "    <tr>\n",
       "      <th>1</th>\n",
       "      <td>TigerBites</td>\n",
       "      <td>2017-02-17 00:28</td>\n",
       "      <td>0</td>\n",
       "      <td>0</td>\n",
       "      <td>Ahh, brings a tear to my eye... tears from lau...</td>\n",
       "      <td>NaN</td>\n",
       "      <td>NaN</td>\n",
       "      <td>#donaldtrump</td>\n",
       "      <td>8.32303117031109E+017</td>\n",
       "      <td>https://twitter.com/TigerBites/status/83230311...</td>\n",
       "      <td>NaN</td>\n",
       "    </tr>\n",
       "    <tr>\n",
       "      <th>2</th>\n",
       "      <td>DRHSAPUSGovt</td>\n",
       "      <td>2017-02-17 00:28</td>\n",
       "      <td>0</td>\n",
       "      <td>0</td>\n",
       "      <td>Donald Trump 's strange handshake style and ho...</td>\n",
       "      <td>NaN</td>\n",
       "      <td>NaN</td>\n",
       "      <td>NaN</td>\n",
       "      <td>8.32303116691268E+017</td>\n",
       "      <td>https://twitter.com/DRHSAPUSGovt/status/832303...</td>\n",
       "      <td>NaN</td>\n",
       "    </tr>\n",
       "    <tr>\n",
       "      <th>3</th>\n",
       "      <td>Spagel77</td>\n",
       "      <td>2017-02-17 00:28</td>\n",
       "      <td>0</td>\n",
       "      <td>0</td>\n",
       "      <td>@BBCBreaking Donald Trump calls out BBC as \"Fa...</td>\n",
       "      <td>NaN</td>\n",
       "      <td>@BBCBreaking</td>\n",
       "      <td>NaN</td>\n",
       "      <td>8.32303116091535E+017</td>\n",
       "      <td>https://twitter.com/Spagel77/status/8323031160...</td>\n",
       "      <td>NaN</td>\n",
       "    </tr>\n",
       "    <tr>\n",
       "      <th>4</th>\n",
       "      <td>kfury</td>\n",
       "      <td>2017-02-17 00:28</td>\n",
       "      <td>0</td>\n",
       "      <td>0</td>\n",
       "      <td>Someone needs to dare Donald Trump to go under...</td>\n",
       "      <td>NaN</td>\n",
       "      <td>NaN</td>\n",
       "      <td>NaN</td>\n",
       "      <td>8.32303114061435E+017</td>\n",
       "      <td>https://twitter.com/kfury/status/8323031140614...</td>\n",
       "      <td>NaN</td>\n",
       "    </tr>\n",
       "  </tbody>\n",
       "</table>\n",
       "</div>"
      ],
      "text/plain": [
       "         username              date  retweets  favorites  \\\n",
       "0  LanaResistance  2017-02-17 00:28         0          0   \n",
       "1      TigerBites  2017-02-17 00:28         0          0   \n",
       "2    DRHSAPUSGovt  2017-02-17 00:28         0          0   \n",
       "3        Spagel77  2017-02-17 00:28         0          0   \n",
       "4           kfury  2017-02-17 00:28         0          0   \n",
       "\n",
       "                                                text  geo      mentions  \\\n",
       "0  Trump: Does anyone think Clinton would be toug...  NaN           NaN   \n",
       "1  Ahh, brings a tear to my eye... tears from lau...  NaN           NaN   \n",
       "2  Donald Trump 's strange handshake style and ho...  NaN           NaN   \n",
       "3  @BBCBreaking Donald Trump calls out BBC as \"Fa...  NaN  @BBCBreaking   \n",
       "4  Someone needs to dare Donald Trump to go under...  NaN           NaN   \n",
       "\n",
       "       hashtags                     id  \\\n",
       "0           NaN  8.32303119161627E+017   \n",
       "1  #donaldtrump  8.32303117031109E+017   \n",
       "2           NaN  8.32303116691268E+017   \n",
       "3           NaN  8.32303116091535E+017   \n",
       "4           NaN  8.32303114061435E+017   \n",
       "\n",
       "                                           permalink Unnamed: 10  \n",
       "0  https://twitter.com/LanaResistance/status/8323...         NaN  \n",
       "1  https://twitter.com/TigerBites/status/83230311...         NaN  \n",
       "2  https://twitter.com/DRHSAPUSGovt/status/832303...         NaN  \n",
       "3  https://twitter.com/Spagel77/status/8323031160...         NaN  \n",
       "4  https://twitter.com/kfury/status/8323031140614...         NaN  "
      ]
     },
     "execution_count": 22,
     "metadata": {},
     "output_type": "execute_result"
    }
   ],
   "source": [
    "df_aft.head()"
   ]
  },
  {
   "cell_type": "code",
   "execution_count": 24,
   "metadata": {
    "collapsed": false
   },
   "outputs": [
    {
     "name": "stderr",
     "output_type": "stream",
     "text": [
      "/usr/local/lib/python2.7/dist-packages/ipykernel/__main__.py:4: SettingWithCopyWarning: \n",
      "A value is trying to be set on a copy of a slice from a DataFrame\n",
      "\n",
      "See the caveats in the documentation: http://pandas.pydata.org/pandas-docs/stable/indexing.html#indexing-view-versus-copy\n"
     ]
    }
   ],
   "source": [
    "#Cleaning tweets\n",
    "analysis=[]\n",
    "for i in range(len(df_aft)):\n",
    "    df_aft['text'][i]=' '.join(re.sub(\"(@[A-Za-z0-9]+)|([^0-9A-Za-z \\t])|(\\w+:\\/\\/\\S+)\", \" \", df_aft['text'][i]).split())\n",
    "    analysis.append(TextBlob(df_aft['text'][i]))"
   ]
  },
  {
   "cell_type": "code",
   "execution_count": 25,
   "metadata": {
    "collapsed": true
   },
   "outputs": [],
   "source": [
    "#getting analysis\n",
    "analysed=[]\n",
    "sentiment_score=[]\n",
    "for i in range(len(df_aft)):\n",
    "    sentiment_score.append(analysis[i].sentiment.polarity)\n",
    "    if analysis[i].sentiment.polarity>0:\n",
    "        analysed.append('positive')\n",
    "    elif analysis[i].sentiment.polarity==0:\n",
    "        analysed.append('neutral')\n",
    "    elif analysis[i].sentiment.polarity<0:\n",
    "        analysed.append('negetive')"
   ]
  },
  {
   "cell_type": "code",
   "execution_count": 27,
   "metadata": {
    "collapsed": true
   },
   "outputs": [],
   "source": [
    "df_aft_fin=pd.DataFrame(columns=['username','date','tweets','analysis','sentiment_score'])"
   ]
  },
  {
   "cell_type": "code",
   "execution_count": 28,
   "metadata": {
    "collapsed": true
   },
   "outputs": [],
   "source": [
    "df_aft_fin['username']=df_aft['username']\n",
    "df_aft_fin['date']=df_aft['date']\n",
    "df_aft_fin['tweets']=df_aft['text']\n",
    "df_aft_fin['analysis']=analysed\n",
    "df_aft_fin['sentiment_score']=sentiment_score"
   ]
  },
  {
   "cell_type": "code",
   "execution_count": 29,
   "metadata": {
    "collapsed": true
   },
   "outputs": [],
   "source": [
    "pos=0\n",
    "neg=0\n",
    "neu=0\n",
    "for i in range(len(df_aft_fin)):\n",
    "    if df_aft_fin.analysis[i]=='positive':\n",
    "        pos=pos+1\n",
    "    elif df_aft_fin.analysis[i]=='negetive':\n",
    "        neg=neg+1\n",
    "    elif df_aft_fin.analysis[i]=='neutral':\n",
    "        neu=neu+1\n"
   ]
  },
  {
   "cell_type": "code",
   "execution_count": 30,
   "metadata": {
    "collapsed": false
   },
   "outputs": [
    {
     "name": "stdout",
     "output_type": "stream",
     "text": [
      "('Positive percentage:', 32.34655078761543)\n",
      "('Negetive percentage:', 22.705051602390007)\n",
      "('Neutral percentage:', 44.948397609994565)\n"
     ]
    }
   ],
   "source": [
    "print('Positive percentage:',pos/len(df_aft_fin)*100)\n",
    "print('Negetive percentage:',(neg/len(df_aft_fin))*100)\n",
    "print('Neutral percentage:',(neu/len(df_aft_fin))*100)"
   ]
  },
  {
   "cell_type": "code",
   "execution_count": 35,
   "metadata": {
    "collapsed": false
   },
   "outputs": [
    {
     "data": {
      "text/plain": [
       "<matplotlib.axes._subplots.AxesSubplot at 0x7f670baff690>"
      ]
     },
     "execution_count": 35,
     "metadata": {},
     "output_type": "execute_result"
    },
    {
     "data": {
      "image/png": "[encoded data removed]",
      "text/plain": [
       "<matplotlib.figure.Figure at 0x7f670bb442d0>"
      ]
     },
     "metadata": {},
     "output_type": "display_data"
    }
   ],
   "source": [
    "df_aft_fin['analysis'].value_counts().plot(kind='bar')"
   ]
  },
  {
   "cell_type": "code",
   "execution_count": null,
   "metadata": {
    "collapsed": true
   },
   "outputs": [],
   "source": [
    "w = df_aft_fin['analysis'].value_counts().plot(kind='bar')"
   ]
  }
 ],
 "metadata": {
  "kernelspec": {
   "display_name": "Python 2",
   "language": "python",
   "name": "python2"
  },
  "language_info": {
   "codemirror_mode": {
    "name": "ipython",
    "version": 2
   },
   "file_extension": ".py",
   "mimetype": "text/x-python",
   "name": "python",
   "nbconvert_exporter": "python",
   "pygments_lexer": "ipython2",
   "version": "2.7.12+"
  }
 },
 "nbformat": 4,
 "nbformat_minor": 2
}
