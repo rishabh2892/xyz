{
 "cells": [
  {
   "cell_type": "code",
   "execution_count": 81,
   "metadata": {
    "collapsed": false
   },
   "outputs": [],
   "source": [
    "#for extracting data, download GetOldTweets package and go to the package's folder\n",
    "#In command prompt, enter, for tweets before elections\n",
    "#python Exporter.py --querysearch \"donald trump\" --since 2016-08-20 --maxtweets 10000 --toptweets\n",
    "#for tweets after election, enter\n",
    "#python Exporter.py --querysearch \"donald trump\" --since 2017-02-16 --maxtweets 10000 --toptweets"
   ]
  },
  {
   "cell_type": "code",
   "execution_count": null,
   "metadata": {
    "collapsed": true
   },
   "outputs": [],
   "source": [
    "from __future__ import division\n",
    "import re\n",
    "import pandas as pd\n",
    "from textblob import TextBlob\n",
    "import matplotlib.pyplot as plt\n",
    "%matplotlib inline"
   ]
  },
  {
   "cell_type": "code",
   "execution_count": 11,
   "metadata": {
    "collapsed": true
   },
   "outputs": [],
   "source": [
    "#Reading saved tweets\n",
    "df_bef=pd.read_csv('output_bef.csv', sep= ';')"
   ]
  },
  {
   "cell_type": "code",
   "execution_count": 12,
   "metadata": {
    "collapsed": false
   },
   "outputs": [
    {
     "data": {
      "text/html": [
       "<div>\n",
       "<table border=\"1\" class=\"dataframe\">\n",
       "  <thead>\n",
       "    <tr style=\"text-align: right;\">\n",
       "      <th></th>\n",
       "      <th>username</th>\n",
       "      <th>date</th>\n",
       "      <th>retweets</th>\n",
       "      <th>favorites</th>\n",
       "      <th>text</th>\n",
       "      <th>geo</th>\n",
       "      <th>mentions</th>\n",
       "      <th>hashtags</th>\n",
       "      <th>id</th>\n",
       "      <th>permalink</th>\n",
       "    </tr>\n",
       "  </thead>\n",
       "  <tbody>\n",
       "    <tr>\n",
       "      <th>0</th>\n",
       "      <td>KABCRadio</td>\n",
       "      <td>2016-12-29 05:29</td>\n",
       "      <td>0</td>\n",
       "      <td>2</td>\n",
       "      <td>President-elect Donald Trump is claiming anoth...</td>\n",
       "      <td>NaN</td>\n",
       "      <td>NaN</td>\n",
       "      <td>NaN</td>\n",
       "      <td>8.142596e+17</td>\n",
       "      <td>https://twitter.com/KABCRadio/status/814259633...</td>\n",
       "    </tr>\n",
       "    <tr>\n",
       "      <th>1</th>\n",
       "      <td>FoxNews</td>\n",
       "      <td>2016-12-29 05:20</td>\n",
       "      <td>129</td>\n",
       "      <td>365</td>\n",
       "      <td>Moore: There's real structural problems with t...</td>\n",
       "      <td>NaN</td>\n",
       "      <td>NaN</td>\n",
       "      <td>NaN</td>\n",
       "      <td>8.142572e+17</td>\n",
       "      <td>https://twitter.com/FoxNews/status/81425716490...</td>\n",
       "    </tr>\n",
       "    <tr>\n",
       "      <th>2</th>\n",
       "      <td>DavidRomeiPHD</td>\n",
       "      <td>2016-12-19 04:49</td>\n",
       "      <td>32</td>\n",
       "      <td>30</td>\n",
       "      <td>Why is #DonaldTrump meeting with #Israel 's #M...</td>\n",
       "      <td>NaN</td>\n",
       "      <td>NaN</td>\n",
       "      <td>#DonaldTrump #Israel #Mossad #Netanyahu</td>\n",
       "      <td>8.106257e+17</td>\n",
       "      <td>https://twitter.com/DavidRomeiPHD/status/81062...</td>\n",
       "    </tr>\n",
       "    <tr>\n",
       "      <th>3</th>\n",
       "      <td>CNN</td>\n",
       "      <td>2016-12-29 03:31</td>\n",
       "      <td>1660</td>\n",
       "      <td>3162</td>\n",
       "      <td>A mall in China has erected a statue reimagini...</td>\n",
       "      <td>NaN</td>\n",
       "      <td>NaN</td>\n",
       "      <td>NaN</td>\n",
       "      <td>8.142297e+17</td>\n",
       "      <td>https://twitter.com/CNN/status/814229695936000000</td>\n",
       "    </tr>\n",
       "    <tr>\n",
       "      <th>4</th>\n",
       "      <td>OOsal</td>\n",
       "      <td>2016-12-29 05:29</td>\n",
       "      <td>0</td>\n",
       "      <td>0</td>\n",
       "      <td>China Erects Massive Statue of Donald Trump as...</td>\n",
       "      <td>NaN</td>\n",
       "      <td>NaN</td>\n",
       "      <td>NaN</td>\n",
       "      <td>8.142596e+17</td>\n",
       "      <td>https://twitter.com/OOsal/status/8142596192163...</td>\n",
       "    </tr>\n",
       "  </tbody>\n",
       "</table>\n",
       "</div>"
      ],
      "text/plain": [
       "        username              date  retweets  favorites  \\\n",
       "0      KABCRadio  2016-12-29 05:29         0          2   \n",
       "1        FoxNews  2016-12-29 05:20       129        365   \n",
       "2  DavidRomeiPHD  2016-12-19 04:49        32         30   \n",
       "3            CNN  2016-12-29 03:31      1660       3162   \n",
       "4          OOsal  2016-12-29 05:29         0          0   \n",
       "\n",
       "                                                text  geo mentions  \\\n",
       "0  President-elect Donald Trump is claiming anoth...  NaN      NaN   \n",
       "1  Moore: There's real structural problems with t...  NaN      NaN   \n",
       "2  Why is #DonaldTrump meeting with #Israel 's #M...  NaN      NaN   \n",
       "3  A mall in China has erected a statue reimagini...  NaN      NaN   \n",
       "4  China Erects Massive Statue of Donald Trump as...  NaN      NaN   \n",
       "\n",
       "                                  hashtags            id  \\\n",
       "0                                      NaN  8.142596e+17   \n",
       "1                                      NaN  8.142572e+17   \n",
       "2  #DonaldTrump #Israel #Mossad #Netanyahu  8.106257e+17   \n",
       "3                                      NaN  8.142297e+17   \n",
       "4                                      NaN  8.142596e+17   \n",
       "\n",
       "                                           permalink  \n",
       "0  https://twitter.com/KABCRadio/status/814259633...  \n",
       "1  https://twitter.com/FoxNews/status/81425716490...  \n",
       "2  https://twitter.com/DavidRomeiPHD/status/81062...  \n",
       "3  https://twitter.com/CNN/status/814229695936000000  \n",
       "4  https://twitter.com/OOsal/status/8142596192163...  "
      ]
     },
     "execution_count": 12,
     "metadata": {},
     "output_type": "execute_result"
    }
   ],
   "source": [
    "#Checking the data\n",
    "df_bef.head()"
   ]
  },
  {
   "cell_type": "code",
   "execution_count": 20,
   "metadata": {
    "collapsed": false
   },
   "outputs": [
    {
     "name": "stderr",
     "output_type": "stream",
     "text": [
      "/usr/local/lib/python2.7/dist-packages/ipykernel/__main__.py:4: SettingWithCopyWarning: \n",
      "A value is trying to be set on a copy of a slice from a DataFrame\n",
      "\n",
      "See the caveats in the documentation: http://pandas.pydata.org/pandas-docs/stable/indexing.html#indexing-view-versus-copy\n"
     ]
    }
   ],
   "source": [
    "#Cleaning tweets\n",
    "analysis=[]\n",
    "for i in range(len(df_bef)):\n",
    "    df_bef['text'][i]=' '.join(re.sub(\"(@[A-Za-z0-9]+)|([^0-9A-Za-z \\t])|(\\w+:\\/\\/\\S+)\", \" \", df_bef['text'][i]).split())\n",
    "    analysis.append(TextBlob(df_bef['text'][i]))"
   ]
  },
  {
   "cell_type": "code",
   "execution_count": 41,
   "metadata": {
    "collapsed": false
   },
   "outputs": [
    {
     "name": "stdout",
     "output_type": "stream",
     "text": [
      "Sentiment(polarity=0.2, subjectivity=0.30000000000000004)\n"
     ]
    }
   ],
   "source": [
    "print(analysis[1].sentiment)"
   ]
  },
  {
   "cell_type": "code",
   "execution_count": 50,
   "metadata": {
    "collapsed": false
   },
   "outputs": [],
   "source": [
    "#getting analysis\n",
    "analysed=[]\n",
    "sentiment_score=[]\n",
    "for i in range(len(df_bef)):\n",
    "    sentiment_score.append(analysis[i].sentiment.polarity)\n",
    "    if analysis[i].sentiment.polarity>0:\n",
    "        analysed.append('positive')\n",
    "    elif analysis[i].sentiment.polarity==0:\n",
    "        analysed.append('neutral')\n",
    "    elif analysis[i].sentiment.polarity<0:\n",
    "        analysed.append('negetive')"
   ]
  },
  {
   "cell_type": "code",
   "execution_count": 30,
   "metadata": {
    "collapsed": false,
    "scrolled": true
   },
   "outputs": [
    {
     "data": {
      "text/plain": [
       "['positive',\n",
       " 'positive',\n",
       " 'negetive',\n",
       " 'neutral',\n",
       " 'neutral',\n",
       " 'neutral',\n",
       " 'neutral',\n",
       " 'positive',\n",
       " 'positive',\n",
       " 'negetive']"
      ]
     },
     "execution_count": 30,
     "metadata": {},
     "output_type": "execute_result"
    }
   ],
   "source": [
    "analysed[:10]"
   ]
  },
  {
   "cell_type": "code",
   "execution_count": 51,
   "metadata": {
    "collapsed": false
   },
   "outputs": [],
   "source": [
    "df_bef_fin=pd.DataFrame(columns=['username','date','tweets','analysis','sentiment_score'])"
   ]
  },
  {
   "cell_type": "code",
   "execution_count": 53,
   "metadata": {
    "collapsed": false
   },
   "outputs": [],
   "source": [
    "df_bef_fin['username']=df_bef['username']\n",
    "df_bef_fin['date']=df_bef['date']\n",
    "df_bef_fin['tweets']=df_bef['text']\n",
    "df_bef_fin['analysis']=analysed\n",
    "df_bef_fin['sentiment_score']=sentiment_score"
   ]
  },
  {
   "cell_type": "code",
   "execution_count": 54,
   "metadata": {
    "collapsed": false
   },
   "outputs": [
    {
     "data": {
      "text/html": [
       "<div>\n",
       "<table border=\"1\" class=\"dataframe\">\n",
       "  <thead>\n",
       "    <tr style=\"text-align: right;\">\n",
       "      <th></th>\n",
       "      <th>username</th>\n",
       "      <th>date</th>\n",
       "      <th>tweets</th>\n",
       "      <th>analysis</th>\n",
       "      <th>sentiment_score</th>\n",
       "    </tr>\n",
       "  </thead>\n",
       "  <tbody>\n",
       "    <tr>\n",
       "      <th>0</th>\n",
       "      <td>KABCRadio</td>\n",
       "      <td>2016-12-29 05:29</td>\n",
       "      <td>President elect Donald Trump is claiming anoth...</td>\n",
       "      <td>positive</td>\n",
       "      <td>0.400000</td>\n",
       "    </tr>\n",
       "    <tr>\n",
       "      <th>1</th>\n",
       "      <td>FoxNews</td>\n",
       "      <td>2016-12-29 05:20</td>\n",
       "      <td>Moore There s real structural problems with th...</td>\n",
       "      <td>positive</td>\n",
       "      <td>0.200000</td>\n",
       "    </tr>\n",
       "    <tr>\n",
       "      <th>2</th>\n",
       "      <td>DavidRomeiPHD</td>\n",
       "      <td>2016-12-19 04:49</td>\n",
       "      <td>Why is DonaldTrump meeting with Israel s Mossa...</td>\n",
       "      <td>negetive</td>\n",
       "      <td>-0.400000</td>\n",
       "    </tr>\n",
       "    <tr>\n",
       "      <th>3</th>\n",
       "      <td>CNN</td>\n",
       "      <td>2016-12-29 03:31</td>\n",
       "      <td>A mall in China has erected a statue reimagini...</td>\n",
       "      <td>neutral</td>\n",
       "      <td>0.000000</td>\n",
       "    </tr>\n",
       "    <tr>\n",
       "      <th>4</th>\n",
       "      <td>OOsal</td>\n",
       "      <td>2016-12-29 05:29</td>\n",
       "      <td>China Erects Massive Statue of Donald Trump as...</td>\n",
       "      <td>neutral</td>\n",
       "      <td>0.000000</td>\n",
       "    </tr>\n",
       "    <tr>\n",
       "      <th>5</th>\n",
       "      <td>MotherJones</td>\n",
       "      <td>2016-12-29 05:15</td>\n",
       "      <td>5 ways Donald Trump could ruin your lunch in 2...</td>\n",
       "      <td>neutral</td>\n",
       "      <td>0.000000</td>\n",
       "    </tr>\n",
       "    <tr>\n",
       "      <th>6</th>\n",
       "      <td>guardian</td>\n",
       "      <td>2016-12-29 05:28</td>\n",
       "      <td>Donald Trump claims credit for creating 8 000 ...</td>\n",
       "      <td>neutral</td>\n",
       "      <td>0.000000</td>\n",
       "    </tr>\n",
       "    <tr>\n",
       "      <th>7</th>\n",
       "      <td>antoniodelotero</td>\n",
       "      <td>2016-12-29 01:33</td>\n",
       "      <td>a few things to leave in 2016 non black people...</td>\n",
       "      <td>positive</td>\n",
       "      <td>0.016667</td>\n",
       "    </tr>\n",
       "    <tr>\n",
       "      <th>8</th>\n",
       "      <td>JesseWMSuphan</td>\n",
       "      <td>2016-12-29 04:05</td>\n",
       "      <td>Dear 2016 please don t take Debbie Reynolds We...</td>\n",
       "      <td>positive</td>\n",
       "      <td>0.250000</td>\n",
       "    </tr>\n",
       "    <tr>\n",
       "      <th>9</th>\n",
       "      <td>RUKKY_MAN</td>\n",
       "      <td>2016-12-29 05:29</td>\n",
       "      <td>did you know that Donald trump game is worth 130</td>\n",
       "      <td>negetive</td>\n",
       "      <td>-0.050000</td>\n",
       "    </tr>\n",
       "  </tbody>\n",
       "</table>\n",
       "</div>"
      ],
      "text/plain": [
       "          username              date  \\\n",
       "0        KABCRadio  2016-12-29 05:29   \n",
       "1          FoxNews  2016-12-29 05:20   \n",
       "2    DavidRomeiPHD  2016-12-19 04:49   \n",
       "3              CNN  2016-12-29 03:31   \n",
       "4            OOsal  2016-12-29 05:29   \n",
       "5      MotherJones  2016-12-29 05:15   \n",
       "6         guardian  2016-12-29 05:28   \n",
       "7  antoniodelotero  2016-12-29 01:33   \n",
       "8    JesseWMSuphan  2016-12-29 04:05   \n",
       "9        RUKKY_MAN  2016-12-29 05:29   \n",
       "\n",
       "                                              tweets  analysis  \\\n",
       "0  President elect Donald Trump is claiming anoth...  positive   \n",
       "1  Moore There s real structural problems with th...  positive   \n",
       "2  Why is DonaldTrump meeting with Israel s Mossa...  negetive   \n",
       "3  A mall in China has erected a statue reimagini...   neutral   \n",
       "4  China Erects Massive Statue of Donald Trump as...   neutral   \n",
       "5  5 ways Donald Trump could ruin your lunch in 2...   neutral   \n",
       "6  Donald Trump claims credit for creating 8 000 ...   neutral   \n",
       "7  a few things to leave in 2016 non black people...  positive   \n",
       "8  Dear 2016 please don t take Debbie Reynolds We...  positive   \n",
       "9   did you know that Donald trump game is worth 130  negetive   \n",
       "\n",
       "   sentiment_score  \n",
       "0         0.400000  \n",
       "1         0.200000  \n",
       "2        -0.400000  \n",
       "3         0.000000  \n",
       "4         0.000000  \n",
       "5         0.000000  \n",
       "6         0.000000  \n",
       "7         0.016667  \n",
       "8         0.250000  \n",
       "9        -0.050000  "
      ]
     },
     "execution_count": 54,
     "metadata": {},
     "output_type": "execute_result"
    }
   ],
   "source": [
    "df_bef_fin.head(10)"
   ]
  },
  {
   "cell_type": "code",
   "execution_count": 70,
   "metadata": {
    "collapsed": false
   },
   "outputs": [],
   "source": [
    "pos=0\n",
    "neg=0\n",
    "neu=0\n",
    "for i in range(len(df_bef_fin)):\n",
    "    if df_bef_fin.analysis[i]=='positive':\n",
    "        pos=pos+1\n",
    "    elif df_bef_fin.analysis[i]=='negetive':\n",
    "        neg=neg+1\n",
    "    elif df_bef_fin.analysis[i]=='neutral':\n",
    "        neu=neu+1\n"
   ]
  },
  {
   "cell_type": "code",
   "execution_count": 79,
   "metadata": {
    "collapsed": false
   },
   "outputs": [
    {
     "name": "stdout",
     "output_type": "stream",
     "text": [
      "('Positive percentage:', 36.5558912386707)\n",
      "('Negetive percentage:', 16.290030211480364)\n",
      "('Neutral percentage:', 47.15407854984895)\n"
     ]
    }
   ],
   "source": [
    "print('Positive percentage:',pos/len(df_bef_fin)*100)\n",
    "print('Negetive percentage:',(neg/len(df_bef_fin))*100)\n",
    "print('Neutral percentage:',(neu/len(df_bef_fin))*100)"
   ]
  },
  {
   "cell_type": "code",
   "execution_count": 96,
   "metadata": {
    "collapsed": false
   },
   "outputs": [],
   "source": [
    "posp=pos/len(df_bef_fin)*100\n",
    "negp=(neg/len(df_bef_fin))*100\n",
    "neup=(neu/len(df_bef_fin))*100"
   ]
  },
  {
   "cell_type": "code",
   "execution_count": 99,
   "metadata": {
    "collapsed": false
   },
   "outputs": [
    {
     "name": "stdout",
     "output_type": "stream",
     "text": [
      "[3025, 1348, 3902]\n"
     ]
    }
   ],
   "source": [
    "perc=[pos,neg,neu]\n",
    "print(perc)"
   ]
  },
  {
   "cell_type": "raw",
   "metadata": {},
   "source": [
    "plt.plot(perc)"
   ]
  },
  {
   "cell_type": "code",
   "execution_count": 112,
   "metadata": {
    "collapsed": false
   },
   "outputs": [
    {
     "data": {
      "text/plain": [
       "<matplotlib.axes._subplots.AxesSubplot at 0x7ff6dcb97690>"
      ]
     },
     "execution_count": 112,
     "metadata": {},
     "output_type": "execute_result"
    },
    {
     "data": {
      "image/png": "[encoded data removed]",
      "text/plain": [
       "<matplotlib.figure.Figure at 0x7ff6dcc61e10>"
      ]
     },
     "metadata": {},
     "output_type": "display_data"
    }
   ],
   "source": [
    "df_bef_fin['analysis'].value_counts().plot(kind='bar')"
   ]
  },
  {
   "cell_type": "code",
   "execution_count": null,
   "metadata": {
    "collapsed": true
   },
   "outputs": [],
   "source": []
  }
 ],
 "metadata": {
  "kernelspec": {
   "display_name": "Python 2",
   "language": "python",
   "name": "python2"
  },
  "language_info": {
   "codemirror_mode": {
    "name": "ipython",
    "version": 2
   },
   "file_extension": ".py",
   "mimetype": "text/x-python",
   "name": "python",
   "nbconvert_exporter": "python",
   "pygments_lexer": "ipython2",
   "version": "2.7.12+"
  }
 },
 "nbformat": 4,
 "nbformat_minor": 2
}
